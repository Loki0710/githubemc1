{
  "cells": [
    {
      "cell_type": "markdown",
      "metadata": {
        "id": "view-in-github",
        "colab_type": "text"
      },
      "source": [
        "<a href=\"https://colab.research.google.com/github/Loki0710/githubemc1/blob/main/MDAnalysis_tutorial.ipynb\" target=\"_parent\"><img src=\"https://colab.research.google.com/assets/colab-badge.svg\" alt=\"Open In Colab\"/></a>"
      ]
    },
    {
      "cell_type": "code",
      "execution_count": null,
      "id": "YDy6m2o-9PO1",
      "metadata": {
        "colab": {
          "base_uri": "https://localhost:8080/"
        },
        "id": "YDy6m2o-9PO1",
        "outputId": "80a900b6-da16-4d77-d2f6-13a8d5955516"
      },
      "outputs": [
        {
          "output_type": "stream",
          "name": "stdout",
          "text": [
            "Requirement already satisfied: MDAnalysis in /usr/local/lib/python3.10/dist-packages (2.8.0)\n",
            "Requirement already satisfied: numpy>=1.23.2 in /usr/local/lib/python3.10/dist-packages (from MDAnalysis) (1.26.4)\n",
            "Requirement already satisfied: GridDataFormats>=0.4.0 in /usr/local/lib/python3.10/dist-packages (from MDAnalysis) (1.0.2)\n",
            "Requirement already satisfied: mmtf-python>=1.0.0 in /usr/local/lib/python3.10/dist-packages (from MDAnalysis) (1.1.3)\n",
            "Requirement already satisfied: joblib>=0.12 in /usr/local/lib/python3.10/dist-packages (from MDAnalysis) (1.4.2)\n",
            "Requirement already satisfied: scipy>=1.5.0 in /usr/local/lib/python3.10/dist-packages (from MDAnalysis) (1.13.1)\n",
            "Requirement already satisfied: matplotlib>=1.5.1 in /usr/local/lib/python3.10/dist-packages (from MDAnalysis) (3.8.0)\n",
            "Requirement already satisfied: tqdm>=4.43.0 in /usr/local/lib/python3.10/dist-packages (from MDAnalysis) (4.66.6)\n",
            "Requirement already satisfied: threadpoolctl in /usr/local/lib/python3.10/dist-packages (from MDAnalysis) (3.5.0)\n",
            "Requirement already satisfied: packaging in /usr/local/lib/python3.10/dist-packages (from MDAnalysis) (24.2)\n",
            "Requirement already satisfied: fasteners in /usr/local/lib/python3.10/dist-packages (from MDAnalysis) (0.19)\n",
            "Requirement already satisfied: mda-xdrlib in /usr/local/lib/python3.10/dist-packages (from MDAnalysis) (0.2.0)\n",
            "Requirement already satisfied: waterdynamics in /usr/local/lib/python3.10/dist-packages (from MDAnalysis) (1.2.0)\n",
            "Requirement already satisfied: pathsimanalysis in /usr/local/lib/python3.10/dist-packages (from MDAnalysis) (1.2.0)\n",
            "Requirement already satisfied: mdahole2 in /usr/local/lib/python3.10/dist-packages (from MDAnalysis) (0.5.0)\n",
            "Requirement already satisfied: mrcfile in /usr/local/lib/python3.10/dist-packages (from GridDataFormats>=0.4.0->MDAnalysis) (1.5.3)\n",
            "Requirement already satisfied: contourpy>=1.0.1 in /usr/local/lib/python3.10/dist-packages (from matplotlib>=1.5.1->MDAnalysis) (1.3.1)\n",
            "Requirement already satisfied: cycler>=0.10 in /usr/local/lib/python3.10/dist-packages (from matplotlib>=1.5.1->MDAnalysis) (0.12.1)\n",
            "Requirement already satisfied: fonttools>=4.22.0 in /usr/local/lib/python3.10/dist-packages (from matplotlib>=1.5.1->MDAnalysis) (4.55.1)\n",
            "Requirement already satisfied: kiwisolver>=1.0.1 in /usr/local/lib/python3.10/dist-packages (from matplotlib>=1.5.1->MDAnalysis) (1.4.7)\n",
            "Requirement already satisfied: pillow>=6.2.0 in /usr/local/lib/python3.10/dist-packages (from matplotlib>=1.5.1->MDAnalysis) (11.0.0)\n",
            "Requirement already satisfied: pyparsing>=2.3.1 in /usr/local/lib/python3.10/dist-packages (from matplotlib>=1.5.1->MDAnalysis) (3.2.0)\n",
            "Requirement already satisfied: python-dateutil>=2.7 in /usr/local/lib/python3.10/dist-packages (from matplotlib>=1.5.1->MDAnalysis) (2.8.2)\n",
            "Requirement already satisfied: msgpack>=1.0.0 in /usr/local/lib/python3.10/dist-packages (from mmtf-python>=1.0.0->MDAnalysis) (1.1.0)\n",
            "Requirement already satisfied: six>=1.5 in /usr/local/lib/python3.10/dist-packages (from python-dateutil>=2.7->matplotlib>=1.5.1->MDAnalysis) (1.16.0)\n"
          ]
        }
      ],
      "source": [
        "!pip install MDAnalysis"
      ]
    },
    {
      "cell_type": "code",
      "execution_count": null,
      "id": "DCYhJvoC9bi2",
      "metadata": {
        "id": "DCYhJvoC9bi2"
      },
      "outputs": [],
      "source": [
        "!pip install nglview"
      ]
    },
    {
      "cell_type": "code",
      "execution_count": null,
      "id": "cad9720f",
      "metadata": {
        "id": "cad9720f"
      },
      "outputs": [],
      "source": [
        "#import tools\n",
        "# MDAnalysis tools\n",
        "import MDAnalysis as mda\n",
        "from MDAnalysis.analysis import rms, align, pca\n",
        "# To view the trajs on notebook\n",
        "import nglview as nv"
      ]
    },
    {
      "cell_type": "code",
      "execution_count": null,
      "id": "73f6b551",
      "metadata": {
        "id": "73f6b551"
      },
      "outputs": [],
      "source": [
        "# Data processing\n",
        "import pandas as pd\n",
        "import numpy as np\n",
        "np.set_printoptions(suppress=True)  #Suppress scientific notation\n",
        "\n",
        "from sklearn.decomposition import PCA"
      ]
    },
    {
      "cell_type": "code",
      "execution_count": null,
      "id": "abac34d9",
      "metadata": {
        "id": "abac34d9"
      },
      "outputs": [],
      "source": [
        "# Plot & System tools\n",
        "import matplotlib as mpl\n",
        "import matplotlib.pyplot as plt\n",
        "from  matplotlib.colors import ListedColormap, NoNorm, BoundaryNorm, CSS4_COLORS\n",
        "import seaborn as sns\n",
        "\n",
        "# Remove warnings\n",
        "import warnings\n",
        "warnings.filterwarnings('ignore')\n",
        "\n",
        "#Change working directory to current directory\n",
        "import os\n",
        "os.chdir(os.getcwd() )"
      ]
    },
    {
      "cell_type": "code",
      "source": [
        "!wget https://raw.githubusercontent.com/Rajnishphe/MolecularDynamics-Tutorial/main/Trajectory_files/md.gro\n",
        "!wget https://raw.githubusercontent.com/Rajnishphe/MolecularDynamics-Tutorial/main/Trajectory_files/md_center.xtc\n"
      ],
      "metadata": {
        "id": "7c3a5sdDGOY2"
      },
      "id": "7c3a5sdDGOY2",
      "execution_count": null,
      "outputs": []
    },
    {
      "cell_type": "code",
      "execution_count": null,
      "id": "VBWKSj4_uCHK",
      "metadata": {
        "id": "VBWKSj4_uCHK"
      },
      "outputs": [],
      "source": [
        "ls"
      ]
    },
    {
      "cell_type": "code",
      "execution_count": null,
      "id": "4990211d",
      "metadata": {
        "id": "4990211d"
      },
      "outputs": [],
      "source": [
        "u = mda.Universe(\"md.gro\",\"md_center.xtc\")\n",
        "print (u)\n",
        "print (u.atoms)"
      ]
    },
    {
      "cell_type": "code",
      "execution_count": null,
      "id": "166d5042",
      "metadata": {
        "id": "166d5042"
      },
      "outputs": [],
      "source": [
        "print('Atoms: ', u.atoms.n_atoms)\n",
        "print('Residues: ', u.residues.n_residues)\n",
        "print('Segments: ', u.segments.n_segments)"
      ]
    },
    {
      "cell_type": "code",
      "execution_count": null,
      "id": "7025d389",
      "metadata": {
        "collapsed": true,
        "id": "7025d389"
      },
      "outputs": [],
      "source": [
        "a = u.atoms[0:50]\n",
        "list (a.resids)"
      ]
    },
    {
      "cell_type": "code",
      "execution_count": null,
      "id": "3a7a7a80",
      "metadata": {
        "id": "3a7a7a80"
      },
      "outputs": [],
      "source": [
        "from MDAnalysis.analysis import align, rms\n",
        "aligner = align.AlignTraj(u, u, select='name CA', in_memory=True).run()"
      ]
    },
    {
      "cell_type": "code",
      "execution_count": null,
      "id": "Of4hdT1ESLHo",
      "metadata": {
        "id": "Of4hdT1ESLHo"
      },
      "outputs": [],
      "source": [
        "from google.colab import output\n",
        "output.enable_custom_widget_manager()"
      ]
    },
    {
      "cell_type": "code",
      "execution_count": null,
      "id": "0M1AwKPRSttu",
      "metadata": {
        "id": "0M1AwKPRSttu"
      },
      "outputs": [],
      "source": [
        "#make protein, ligand and complex as independent entries\n",
        "protein = u.atoms.select_atoms(\"protein\")\n",
        "print (protein)"
      ]
    },
    {
      "cell_type": "code",
      "source": [
        "from google.colab import output\n",
        "output.enable_custom_widget_manager()"
      ],
      "metadata": {
        "id": "ZrlHVsukRfiB"
      },
      "id": "ZrlHVsukRfiB",
      "execution_count": null,
      "outputs": []
    },
    {
      "cell_type": "markdown",
      "source": [
        "Support for third party widgets will remain active for the duration of the session. To disable support:"
      ],
      "metadata": {
        "id": "Osgagdk4RfiI"
      },
      "id": "Osgagdk4RfiI"
    },
    {
      "cell_type": "code",
      "execution_count": null,
      "id": "7c87ba52",
      "metadata": {
        "id": "7c87ba52"
      },
      "outputs": [],
      "source": [
        "import MDAnalysis.analysis.rms\n",
        "import matplotlib.pyplot as plt\n",
        "import MDAnalysis as mda\n",
        "import pandas as pd\n",
        "import numpy as np"
      ]
    },
    {
      "cell_type": "code",
      "execution_count": null,
      "id": "ePlBmtPdAj5w",
      "metadata": {
        "id": "ePlBmtPdAj5w"
      },
      "outputs": [],
      "source": [
        "!pip install numpy scikit-learn matplotlib"
      ]
    },
    {
      "cell_type": "markdown",
      "id": "QnnJ7TgBWkQx",
      "metadata": {
        "id": "QnnJ7TgBWkQx"
      },
      "source": [
        "#Protein RMSD"
      ]
    },
    {
      "cell_type": "code",
      "execution_count": null,
      "id": "5b6fb213",
      "metadata": {
        "id": "5b6fb213"
      },
      "outputs": [],
      "source": [
        "\n",
        "R = MDAnalysis.analysis.rms.RMSD(protein, protein,\n",
        "           select=\"backbone\", ref_frame=1)\n",
        "R.run()\n",
        "rmsd = R.rmsd.T   # transpose makes it easier for plotting\n",
        "time = rmsd[1]\n",
        "fig = plt.figure(figsize=(8,6))\n",
        "ax = fig.add_subplot(111)\n",
        "ax.plot(time, rmsd[2], 'k-',  label=\"all\")\n",
        "ax.legend(loc=\"best\")\n",
        "ax.set_xlabel(\"time (ps)\")\n",
        "ax.set_ylabel(r\"RMSD ($\\AA$)\")\n",
        "fig.savefig(\"rmsd_all_CORE_LID_NMP_ref1AKE.pdf\")"
      ]
    },
    {
      "cell_type": "code",
      "execution_count": null,
      "id": "36d252e5",
      "metadata": {
        "id": "36d252e5"
      },
      "outputs": [],
      "source": [
        "# Create dataframe of RMSD values\n",
        "# RMSD routine creates Frame and Time columns + three groups of RMSD calculations\n",
        "cols = ['Frame','Time', 'Full']\n",
        "df_rms = pd.DataFrame(R.rmsd, columns=cols)"
      ]
    },
    {
      "cell_type": "code",
      "execution_count": null,
      "id": "8aa7c9c5",
      "metadata": {
        "id": "8aa7c9c5"
      },
      "outputs": [],
      "source": [
        "# Lets convert time to ns\n",
        "df_rms.Time/1000.0 #  Time*(1/1000)"
      ]
    },
    {
      "cell_type": "code",
      "execution_count": null,
      "id": "3eb58311",
      "metadata": {
        "id": "3eb58311"
      },
      "outputs": [],
      "source": [
        "df_rms.drop('Frame',axis=1,inplace=True)      #Drop Frame column, we retain only Time\n",
        "df_rms['Time' ] = df_rms.Time* 0.001          #Convert time to ns\n",
        "df_rms.set_index('Time',inplace=True)         #Set Time as index (row labels)"
      ]
    },
    {
      "cell_type": "code",
      "execution_count": null,
      "id": "bd8bc272",
      "metadata": {
        "id": "bd8bc272"
      },
      "outputs": [],
      "source": [
        "#Save rmsd output to csv file\n",
        "#df_rms.to_csv( fout_rms ,index_label='Time')\n",
        "\n",
        "display( df_rms.head(5), df_rms.tail(4) )"
      ]
    },
    {
      "cell_type": "code",
      "execution_count": null,
      "id": "00bf8c11",
      "metadata": {
        "id": "00bf8c11"
      },
      "outputs": [],
      "source": [
        "# Lets do time evolution of RMSD\n",
        "df_rms.plot()\n",
        "plt.xlim( [0,1])\n",
        "plt.xlabel('Time (ns)')\n",
        "plt.ylabel( ' RMSD $\\AA$')\n",
        "\n",
        "plt.legend(ncol=4,fontsize=9,loc=3)\n",
        "#plt.legend(ncol=4,fontsize=9,loc=3)\n",
        "plt.savefig('Protein_RMSD.tif')"
      ]
    },
    {
      "cell_type": "markdown",
      "id": "kqd-QM18WoKa",
      "metadata": {
        "id": "kqd-QM18WoKa"
      },
      "source": [
        "#Protein RMSF Calculation"
      ]
    },
    {
      "cell_type": "code",
      "execution_count": null,
      "id": "63296e5a",
      "metadata": {
        "id": "63296e5a"
      },
      "outputs": [],
      "source": [
        "c_alphas = u.select_atoms('protein and name CA')\n",
        "R = rms.RMSF(c_alphas).run()\n",
        "%matplotlib inline"
      ]
    },
    {
      "cell_type": "code",
      "execution_count": null,
      "id": "5061988c",
      "metadata": {
        "id": "5061988c"
      },
      "outputs": [],
      "source": [
        "plt.plot(c_alphas.resids, R.rmsf, )\n",
        "plt.xlim(0,150)\n",
        "plt.xlabel('Residue Number', fontsize=18)\n",
        "plt.ylabel('RMSF ($\\AA$)', fontsize=18)\n",
        "mpl.rcParams.update({'font.size': 14})\n",
        "#plt.legend(loc='lower center')\n",
        "plt.title('Protein RMSF')\n",
        "plt.savefig('Protein_RMSF.png')"
      ]
    },
    {
      "cell_type": "code",
      "execution_count": null,
      "id": "49027872",
      "metadata": {
        "id": "49027872"
      },
      "outputs": [],
      "source": [
        "#PCA Analysis https://userguide.mdanalysis.org/1.0.0/examples/analysis/reduced_dimensions/pca.html\n",
        "aligner = align.AlignTraj(u, u, select='backbone', in_memory=True).run() # align the trajectory first"
      ]
    },
    {
      "cell_type": "code",
      "execution_count": null,
      "id": "b837697d",
      "metadata": {
        "id": "b837697d"
      },
      "outputs": [],
      "source": [
        "from MDAnalysis.analysis import pca, align\n",
        "pc = pca.PCA(u, select='backbone', align=False, mean=None, n_components=None).run()"
      ]
    },
    {
      "cell_type": "code",
      "execution_count": null,
      "id": "e682c188",
      "metadata": {
        "id": "e682c188"
      },
      "outputs": [],
      "source": [
        "pc.variance[0]"
      ]
    },
    {
      "cell_type": "code",
      "execution_count": null,
      "id": "7cf306dc",
      "metadata": {
        "id": "7cf306dc"
      },
      "outputs": [],
      "source": [
        "print(pc.cumulated_variance[0])\n",
        "print(pc.cumulated_variance[5])"
      ]
    },
    {
      "cell_type": "code",
      "execution_count": null,
      "id": "633daf54",
      "metadata": {
        "id": "633daf54"
      },
      "outputs": [],
      "source": [
        "plt.plot(pc.cumulated_variance[:50])\n",
        "plt.xlabel('Principal component')\n",
        "plt.ylabel('Cumulative variance');"
      ]
    },
    {
      "cell_type": "code",
      "execution_count": null,
      "id": "72ae5ed5",
      "metadata": {
        "id": "72ae5ed5"
      },
      "outputs": [],
      "source": [
        "backbone = u.select_atoms('backbone')\n",
        "n_bb = len(backbone)\n",
        "print('There are {} backbone atoms in the analysis'.format(n_bb))\n",
        "print(pc.p_components.shape)"
      ]
    },
    {
      "cell_type": "code",
      "execution_count": null,
      "id": "698318f4",
      "metadata": {
        "id": "698318f4"
      },
      "outputs": [],
      "source": [
        "transformed = pc.transform(backbone, n_components=5) # output only 5 PCs\n",
        "transformed.shape"
      ]
    },
    {
      "cell_type": "code",
      "execution_count": null,
      "id": "efaa2feb",
      "metadata": {
        "id": "efaa2feb"
      },
      "outputs": [],
      "source": [
        "# make a dataframe out of array\n",
        "import pandas as pd\n",
        "df = pd.DataFrame(transformed,\n",
        "                  columns=['PC{}'.format(i+1) for i in range(5)])\n",
        "df['Time (ps)'] = df.index * u.trajectory.dt\n",
        "df.head()"
      ]
    },
    {
      "cell_type": "code",
      "execution_count": null,
      "id": "e6056d23",
      "metadata": {
        "id": "e6056d23"
      },
      "outputs": [],
      "source": [
        "import seaborn as sns\n",
        "\n",
        "g = sns.PairGrid(df, hue='Time (ps)',\n",
        "                 palette=sns.color_palette('Oranges_d',\n",
        "                                          n_colors=len(df)))\n",
        "g.map(plt.scatter, marker='.')"
      ]
    },
    {
      "cell_type": "markdown",
      "id": "96xk-czNWOBf",
      "metadata": {
        "id": "96xk-czNWOBf"
      },
      "source": [
        "#Pairwise RMSD calculation"
      ]
    },
    {
      "cell_type": "code",
      "execution_count": null,
      "id": "cb2110e6",
      "metadata": {
        "id": "cb2110e6"
      },
      "outputs": [],
      "source": [
        "import MDAnalysis as mda\n",
        "from MDAnalysis.analysis import diffusionmap, align, rms\n",
        "import numpy as np\n",
        "import matplotlib.pyplot as plt\n",
        "%matplotlib inline"
      ]
    },
    {
      "cell_type": "code",
      "execution_count": null,
      "id": "3ddb67f6",
      "metadata": {
        "id": "3ddb67f6"
      },
      "outputs": [],
      "source": [
        "matrix = diffusionmap.DistanceMatrix(u, select='name CA').run()"
      ]
    },
    {
      "cell_type": "code",
      "execution_count": null,
      "id": "ae6bab51",
      "metadata": {
        "id": "ae6bab51"
      },
      "outputs": [],
      "source": [
        "matrix.dist_matrix.shape"
      ]
    },
    {
      "cell_type": "code",
      "execution_count": null,
      "id": "3492f68e",
      "metadata": {
        "id": "3492f68e"
      },
      "outputs": [],
      "source": [
        "plt.imshow(matrix.dist_matrix, cmap='viridis')\n",
        "plt.xlabel('Frame')\n",
        "plt.ylabel('Frame')\n",
        "plt.colorbar(label=r'RMSD ($\\AA$)')"
      ]
    },
    {
      "cell_type": "markdown",
      "id": "JBW_JF6nWX5Z",
      "metadata": {
        "id": "JBW_JF6nWX5Z"
      },
      "source": [
        "#Radius of gyration"
      ]
    },
    {
      "cell_type": "code",
      "execution_count": null,
      "id": "75ed4983",
      "metadata": {
        "id": "75ed4983"
      },
      "outputs": [],
      "source": [
        "len(u.trajectory)"
      ]
    },
    {
      "cell_type": "code",
      "execution_count": null,
      "id": "dbc7aab8",
      "metadata": {
        "collapsed": true,
        "id": "dbc7aab8"
      },
      "outputs": [],
      "source": [
        "for ts in u.trajectory:\n",
        "    print(\"Frame: {0:5d}, Time: {1:8.3f} ps\".format(ts.frame, u.trajectory.time))\n",
        "    print(\"Rgyr: {0:g} A\".format(u.atoms.radius_of_gyration()))"
      ]
    },
    {
      "cell_type": "code",
      "execution_count": null,
      "id": "c31009ca",
      "metadata": {
        "id": "c31009ca"
      },
      "outputs": [],
      "source": [
        "Rgyr = []\n",
        "protein = u.select_atoms(\"protein\")\n",
        "for ts in u.trajectory:\n",
        "   Rgyr.append((u.trajectory.time, protein.radius_of_gyration()))\n",
        "Rgyr = np.array(Rgyr)"
      ]
    },
    {
      "cell_type": "code",
      "execution_count": null,
      "id": "7d2c140d",
      "metadata": {
        "id": "7d2c140d",
        "scrolled": true
      },
      "outputs": [],
      "source": [
        "#Plot\n",
        "import matplotlib.pyplot as plt\n",
        "ax = plt.subplot(111)\n",
        "ax.plot(Rgyr[:,0], Rgyr[:,1], 'r--', lw=2, label=r\"$R_G$\")\n",
        "ax.set_xlabel(\"time (ps)\")\n",
        "ax.set_ylabel(r\"radius of gyration $R_G$ ($\\AA$)\")\n",
        "ax.figure.savefig(\"Rgyr.pdf\")\n",
        "plt.draw()"
      ]
    }
  ],
  "metadata": {
    "colab": {
      "provenance": [],
      "include_colab_link": true
    },
    "kernelspec": {
      "display_name": "Python 3 (ipykernel)",
      "language": "python",
      "name": "python3"
    },
    "language_info": {
      "codemirror_mode": {
        "name": "ipython",
        "version": 3
      },
      "file_extension": ".py",
      "mimetype": "text/x-python",
      "name": "python",
      "nbconvert_exporter": "python",
      "pygments_lexer": "ipython3",
      "version": "3.9.13"
    }
  },
  "nbformat": 4,
  "nbformat_minor": 5
}